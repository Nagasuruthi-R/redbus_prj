{
 "cells": [
  {
   "cell_type": "markdown",
   "id": "f4c24515-f7f9-486f-9b08-810156784e90",
   "metadata": {},
   "source": [
    "***Departing time in time format***"
   ]
  },
  {
   "cell_type": "code",
   "execution_count": null,
   "id": "a7e7b73e-d9c7-421b-b5f2-e5e004499a51",
   "metadata": {},
   "outputs": [],
   "source": [
    "\n",
    "#Create table transformed_redbus with transformed_departing_time\n",
    "CREATE TABLE trans_redbus AS\n",
    "SELECT\n",
    "    *,\n",
    "    STR_TO_DATE(\n",
    "        CASE\n",
    "            WHEN departing_time LIKE '% %' THEN SUBSTRING_INDEX(departing_time, ' ', 1)\n",
    "            ELSE departing_time\n",
    "        END,\n",
    "        '%H:%i'\n",
    "    ) AS t_departing_time\n",
    "FROM redbus_new_table\n",
    "WHERE \n",
    "    CASE\n",
    "        WHEN departing_time LIKE '% %' THEN SUBSTRING_INDEX(departing_time, ' ', 1)\n",
    "        ELSE departing_time\n",
    "    END REGEXP '^[0-2][0-9]:[0-5][0-9]$';"
   ]
  },
  {
   "cell_type": "code",
   "execution_count": null,
   "id": "8f1f068a-0cac-4cca-bf43-3da1fe9b914f",
   "metadata": {},
   "outputs": [],
   "source": [
    "##Create table b_routes with transformed reaching time\n",
    "CREATE TABLE b_routes AS\n",
    "SELECT \n",
    "    *,\n",
    "    CASE\n",
    "        WHEN \n",
    "            FLOOR(SUBSTRING_INDEX(SUBSTRING_INDEX(reaching_time, ' ', 1), 'h', 1)) < 24 AND\n",
    "            FLOOR(SUBSTRING_INDEX(SUBSTRING_INDEX(reaching_time, ' ', -1), 'm', 1)) < 60\n",
    "        THEN\n",
    "            STR_TO_DATE(\n",
    "                CONCAT(\n",
    "                    LPAD(FLOOR(SUBSTRING_INDEX(SUBSTRING_INDEX(reaching_time, ' ', 1), 'h', 1)), 2, '0'), \n",
    "                    ':',\n",
    "                    LPAD(FLOOR(SUBSTRING_INDEX(SUBSTRING_INDEX(reaching_time, ' ', -1), 'm', 1)), 2, '0')\n",
    "                ),\n",
    "                '%H:%i'\n",
    "            )\n",
    "        ELSE\n",
    "            NULL  -- or some default value\n",
    "    END AS t_reaching_time\n",
    "FROM trans_redbus\n",
    "WHERE reaching_time REGEXP '^[0-9]+h [0-9]+m$';"
   ]
  },
  {
   "cell_type": "markdown",
   "id": "6e967d16-223e-4587-9663-e4f56e93ea4d",
   "metadata": {},
   "source": [
    "***Categorised bys_type***"
   ]
  },
  {
   "cell_type": "code",
   "execution_count": null,
   "id": "74dc82b1-af1e-4164-81a7-d0af3f20f0c9",
   "metadata": {},
   "outputs": [],
   "source": [
    "#Select everything from b_routes\n",
    "#Categorize bus types in redbus_routes\n",
    "SELECT \n",
    "    DISTINCT bus_type,\n",
    "    CASE \n",
    "        WHEN LOWER(bus_type) LIKE '%non%' THEN \"No\"\n",
    "        ELSE \"Yes\"\n",
    "    END AS contains_ac,\n",
    "    CASE \n",
    "        WHEN LOWER(bus_type) LIKE '%seater%' AND LOWER(bus_type) NOT LIKE '%sleeper%' THEN 'Seater'\n",
    "        WHEN LOWER(bus_type) LIKE '%sleeper%' AND LOWER(bus_type) NOT LIKE '%seater%' THEN 'Sleeper'\n",
    "        WHEN LOWER(bus_type) LIKE '%semi%' AND LOWER(bus_type) LIKE '%sleeper%' AND LOWER(bus_type) NOT LIKE '%seater%' THEN 'Semi Sleeper'\n",
    "        WHEN LOWER(bus_type) LIKE '%semi%' AND LOWER(bus_type) LIKE '%seater%' AND LOWER(bus_type) NOT LIKE '%sleeper%' THEN 'Semi Seater'\n",
    "        ELSE 'new_type'\n",
    "    END AS bus_types_ss\n",
    "FROM redbus_routes;"
   ]
  },
  {
   "cell_type": "code",
   "execution_count": null,
   "id": "f60a5b3b-fdc1-43cd-9c3d-c9e92981356c",
   "metadata": {},
   "outputs": [],
   "source": [
    "##Create newbus_route table with standardized star ratings\n",
    "CREATE TABLE newbus_route AS\n",
    "SELECT\n",
    "    *,\n",
    "    CAST(standardized_star_ratings AS FLOAT) AS new_star_ratings\n",
    "FROM red_route;\n"
   ]
  },
  {
   "cell_type": "markdown",
   "id": "f952c03f-5343-4f4a-ad3a-5ec18f6c88ee",
   "metadata": {},
   "source": [
    "***After done cleaning, I transformed every columns into new table called as 'newbus_route'"
   ]
  },
  {
   "cell_type": "code",
   "execution_count": null,
   "id": "dadb946f-722b-40d8-a8e4-0e098a970878",
   "metadata": {},
   "outputs": [],
   "source": [
    "##Select everything from newbus_route\n",
    "SELECT * FROM newbus_route;\n"
   ]
  }
 ],
 "metadata": {
  "kernelspec": {
   "display_name": "Python 3 (ipykernel)",
   "language": "python",
   "name": "python3"
  },
  "language_info": {
   "codemirror_mode": {
    "name": "ipython",
    "version": 3
   },
   "file_extension": ".py",
   "mimetype": "text/x-python",
   "name": "python",
   "nbconvert_exporter": "python",
   "pygments_lexer": "ipython3",
   "version": "3.11.7"
  }
 },
 "nbformat": 4,
 "nbformat_minor": 5
}
